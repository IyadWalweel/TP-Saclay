{
 "cells": [
  {
   "cell_type": "markdown",
   "metadata": {
    "toc": true
   },
   "source": [
    "<h1>Table of Contents<span class=\"tocSkip\"></span></h1>\n",
    "<div class=\"toc\"><ul class=\"toc-item\"><li><span><a href=\"#What-is-a-Jupyter-notebook-?\" data-toc-modified-id=\"What-is-a-Jupyter-notebook-?-1\"><span class=\"toc-item-num\">1&nbsp;&nbsp;</span>What is a Jupyter notebook ?</a></span></li><li><span><a href=\"#What-is-Julia-?\" data-toc-modified-id=\"What-is-Julia-?-2\"><span class=\"toc-item-num\">2&nbsp;&nbsp;</span>What is Julia ?</a></span></li><li><span><a href=\"#What-is-JuMP-?\" data-toc-modified-id=\"What-is-JuMP-?-3\"><span class=\"toc-item-num\">3&nbsp;&nbsp;</span>What is JuMP ?</a></span></li><li><span><a href=\"#Constructing-linear-programm\" data-toc-modified-id=\"Constructing-linear-programm-4\"><span class=\"toc-item-num\">4&nbsp;&nbsp;</span>Constructing linear programm</a></span><ul class=\"toc-item\"><li><span><a href=\"#A-first-LP\" data-toc-modified-id=\"A-first-LP-4.1\"><span class=\"toc-item-num\">4.1&nbsp;&nbsp;</span>A first LP</a></span></li><li><span><a href=\"#A-more-complex-LP\" data-toc-modified-id=\"A-more-complex-LP-4.2\"><span class=\"toc-item-num\">4.2&nbsp;&nbsp;</span>A more complex LP</a></span></li><li><span><a href=\"#Declare-multiple-variables-/-constraints\" data-toc-modified-id=\"Declare-multiple-variables-/-constraints-4.3\"><span class=\"toc-item-num\">4.3&nbsp;&nbsp;</span>Declare multiple variables / constraints</a></span></li></ul></li></ul></div>"
   ]
  },
  {
   "cell_type": "markdown",
   "metadata": {},
   "source": [
    "# A quick review of Jupyter / Julia / JuMP\n",
    "\n",
    "## What is a Jupyter notebook ?\n",
    "\n",
    "A Jupyter notebook is a document containing \n",
    "+ text\n",
    "  - that we can formatted with Markdown\n",
    "  - that can contains $\\LaTeX$\n",
    "+ code\n",
    "  - that we can execute from the browser\n",
    "  \n",
    "A notebook is made of cells, each being either text or code\n",
    "A few tricks :\n",
    "+ double-click to go in a cell\n",
    "+ M / Y to change cell type\n",
    "+ Ctrl-enter to execute a cell\n",
    "+ shift-enter to execute a cell and go to the next\n",
    "\n",
    "You can download the .ipynb file through \"file\" tab at the top left. You can also download a pdf."
   ]
  },
  {
   "cell_type": "markdown",
   "metadata": {},
   "source": [
    "## What is Julia ?\n",
    "\n",
    "A Python like programming language. It is recent and develloped for scientific calculus. \n",
    "\n",
    "A few interesting points :\n",
    "+ open-source\n",
    "+ Just-in-time compilation\n",
    "+ has a shell like python\n",
    "+ ...\n",
    "\n",
    "Let's make our first steps in Julia. Execute the following cells (shift-enter), don't hesitate to modify a bit:"
   ]
  },
  {
   "cell_type": "code",
   "execution_count": null,
   "metadata": {},
   "outputs": [],
   "source": [
    "1+1"
   ]
  },
  {
   "cell_type": "code",
   "execution_count": null,
   "metadata": {},
   "outputs": [],
   "source": [
    "a = [0 5 10 15]\n",
    "a[1]"
   ]
  },
  {
   "cell_type": "code",
   "execution_count": null,
   "metadata": {},
   "outputs": [],
   "source": [
    "sum(a)"
   ]
  },
  {
   "cell_type": "code",
   "execution_count": null,
   "metadata": {},
   "outputs": [],
   "source": [
    "sum(x^2 for x in a)"
   ]
  },
  {
   "cell_type": "code",
   "execution_count": null,
   "metadata": {},
   "outputs": [],
   "source": [
    "length(a)"
   ]
  },
  {
   "cell_type": "code",
   "execution_count": null,
   "metadata": {},
   "outputs": [],
   "source": [
    "exp.(a) .- a #to apply an operation or function componentwise just add .  "
   ]
  },
  {
   "cell_type": "code",
   "execution_count": null,
   "metadata": {},
   "outputs": [],
   "source": [
    "@doc exp # to get documentation on a function"
   ]
  },
  {
   "cell_type": "code",
   "execution_count": null,
   "metadata": {},
   "outputs": [],
   "source": [
    "for i = 1:5\n",
    "    println(\"itération \",i)\n",
    "end"
   ]
  },
  {
   "cell_type": "code",
   "execution_count": null,
   "metadata": {},
   "outputs": [],
   "source": [
    "function factoriel(n)\n",
    "    if n == 0\n",
    "        return 1\n",
    "    end\n",
    "    res = 1\n",
    "    for i=1:n\n",
    "        res = res * i\n",
    "    end\n",
    "    return res\n",
    "end"
   ]
  },
  {
   "cell_type": "code",
   "execution_count": null,
   "metadata": {},
   "outputs": [],
   "source": [
    "factoriel(5)"
   ]
  },
  {
   "cell_type": "code",
   "execution_count": null,
   "metadata": {},
   "outputs": [],
   "source": [
    "round(1.9453;sigdigits=2)"
   ]
  },
  {
   "cell_type": "code",
   "execution_count": null,
   "metadata": {},
   "outputs": [],
   "source": [
    "rand(3)"
   ]
  },
  {
   "cell_type": "markdown",
   "metadata": {},
   "source": [
    "Further info can be found [here](https://learnxinyminutes.com/docs/julia/) or in the [documentation](https://docs.julialang.org/en/v1/)"
   ]
  },
  {
   "cell_type": "markdown",
   "metadata": {},
   "source": [
    "\n",
    "\n",
    "## What is JuMP ?\n",
    "\n",
    "JuMP is one of Julia's prominent package.\n",
    "\n",
    "It is a modeler that allow to easily write optimisation problem and call solver on it.\n",
    "\n",
    "More information on http://www.juliaopt.org/JuMP.jl/v0.20.0/quickstart/\n",
    "\n",
    "Let start by installing some packages."
   ]
  },
  {
   "cell_type": "code",
   "execution_count": null,
   "metadata": {},
   "outputs": [],
   "source": [
    "using Pkg\n",
    "Pkg.add(\"JuMP\")\n",
    "Pkg.add(\"GLPK\")"
   ]
  },
  {
   "cell_type": "markdown",
   "metadata": {},
   "source": [
    "We can list the installed package with the following command."
   ]
  },
  {
   "cell_type": "code",
   "execution_count": null,
   "metadata": {},
   "outputs": [],
   "source": [
    "Pkg.status()"
   ]
  },
  {
   "cell_type": "markdown",
   "metadata": {},
   "source": [
    "We now load the packages."
   ]
  },
  {
   "cell_type": "code",
   "execution_count": null,
   "metadata": {},
   "outputs": [],
   "source": [
    "using JuMP, GLPK"
   ]
  },
  {
   "cell_type": "markdown",
   "metadata": {},
   "source": [
    "\n",
    "## Constructing linear programm\n",
    "\n",
    "### A first LP\n",
    "\n",
    "We want to solve the following LP\n",
    "$$ \\begin{align*} \n",
    "\\min_{x,y} \\quad & 2x+3y \\\\\n",
    "s.c. \\quad & x+y \\geq 1 \\\\\n",
    "& x \\geq 0, y\\geq 0 \\\\\n",
    "\\end{align*}$$\n",
    "\n",
    "First we construct the LP"
   ]
  },
  {
   "cell_type": "code",
   "execution_count": null,
   "metadata": {},
   "outputs": [],
   "source": [
    "OPTIMIZER = GLPK.Optimizer              # We choose a solver\n",
    "m = Model(with_optimizer(OPTIMIZER))    # We define a model\n",
    "\n",
    "@variable(m,x>=0)                       # x is a positive variable of m\n",
    "@variable(m,y>=0)                       # y is a positive variable of m\n",
    "\n",
    "@objective(m,Min, 2*x+3*y)              # m's objective consists in Minimizing 2*x+3*y\n",
    "\n",
    "@constraint(m,x+y >= 1 )                # m have the following constraint x+y <=1"
   ]
  },
  {
   "cell_type": "markdown",
   "metadata": {},
   "source": [
    "We can check that we have written the right problem."
   ]
  },
  {
   "cell_type": "code",
   "execution_count": null,
   "metadata": {},
   "outputs": [],
   "source": [
    "print(m)"
   ]
  },
  {
   "cell_type": "markdown",
   "metadata": {},
   "source": [
    "We can also solve m"
   ]
  },
  {
   "cell_type": "code",
   "execution_count": null,
   "metadata": {},
   "outputs": [],
   "source": [
    "optimize!(m)\n",
    "println(termination_status(m))\n",
    "println(primal_status(m))\n",
    "println(dual_status(m))"
   ]
  },
  {
   "cell_type": "markdown",
   "metadata": {},
   "source": [
    "We can get the objective value and solution of m once solved."
   ]
  },
  {
   "cell_type": "code",
   "execution_count": null,
   "metadata": {},
   "outputs": [],
   "source": [
    "println(JuMP.objective_value(m))\n",
    "println(\"x = \",JuMP.value(x))\n",
    "println(\"y = \",JuMP.value(y))"
   ]
  },
  {
   "cell_type": "markdown",
   "metadata": {},
   "source": [
    "### A more complex LP\n",
    "\n",
    "We now consider\n",
    "$$\n",
    "\\begin{align*}\n",
    "\\min_{x\\in R^n} \\quad & \\sum_{i=1}^n c_i x_i \\\\\n",
    "s.c. \\quad & \\sum_{i=1}^n x_i \\geq n \\\\\n",
    "&  -1 \\leq x_i \\leq 2 & \\forall i\n",
    "\\end{align*}\n",
    "$$"
   ]
  },
  {
   "cell_type": "code",
   "execution_count": null,
   "metadata": {},
   "outputs": [],
   "source": [
    "m2 = Model(with_optimizer(OPTIMIZER))\n",
    "n = 5                                    \n",
    "c = rand(n)                               # c is random                                             \n",
    "\n",
    "@variable(m2, -1<= x[1:n] <= 2)           # x is a vector of n variables of m2 : x[1], x[2],...,x[n] each between -1 and 2\n",
    "\n",
    "@objective(m2,Min, sum(c[i]*x[i] for i=1:n) )\n",
    "\n",
    "@constraint(m2,sum(x[i] for i=1:n) >= n)\n",
    "                        \n",
    "print(m2)            "
   ]
  },
  {
   "cell_type": "code",
   "execution_count": null,
   "metadata": {},
   "outputs": [],
   "source": [
    "optimize!(m2)\n",
    "println(termination_status(m2))"
   ]
  },
  {
   "cell_type": "code",
   "execution_count": null,
   "metadata": {},
   "outputs": [],
   "source": [
    "value.(x)"
   ]
  },
  {
   "cell_type": "markdown",
   "metadata": {},
   "source": [
    "We can now add multiple constraints\n",
    "$$ x_i + x_{i+1} \\leq 1, \\qquad \\forall i \\in 2, \\dots, n-1$$"
   ]
  },
  {
   "cell_type": "code",
   "execution_count": null,
   "metadata": {},
   "outputs": [],
   "source": [
    "for i = 1 : n-1\n",
    "    @constraint(m2, x[i]+x[i+1] <= 2)\n",
    "end"
   ]
  },
  {
   "cell_type": "code",
   "execution_count": null,
   "metadata": {},
   "outputs": [],
   "source": [
    "optimize!(m2)\n",
    "value.(x)"
   ]
  },
  {
   "cell_type": "markdown",
   "metadata": {},
   "source": [
    "### Declare multiple variables / constraints\n",
    "\n",
    "We can declare variables and constraints by block with `@variables` and `@constraints` (note the `s`) as follows"
   ]
  },
  {
   "cell_type": "code",
   "execution_count": null,
   "metadata": {},
   "outputs": [],
   "source": [
    "m3 = Model(with_optimizer(OPTIMIZER))\n",
    "\n",
    "@variable(m3, -1<= x[1:n] <= 2)           \n",
    "@objective(m3,Min, sum(c[i]*x[i] for i=1:n) )\n",
    "\n",
    "@constraints(m3,begin \n",
    "        sum(x[i] for i=1:n) >= n         # first constraint\n",
    "        [i in 1:n-1], x[i]+x[i+1] <= 2   # ∀ i = 1, .. n-1,  x_i + x_{i+1} <= 2\n",
    "    end\n",
    "    )\n",
    "\n",
    "optimize!(m3)\n",
    "value.(x)"
   ]
  }
 ],
 "metadata": {
  "@webio": {
   "lastCommId": null,
   "lastKernelId": null
  },
  "kernelspec": {
   "display_name": "Julia 1.2.0",
   "language": "julia",
   "name": "julia-1.2"
  },
  "language_info": {
   "file_extension": ".jl",
   "mimetype": "application/julia",
   "name": "julia",
   "version": "1.2.0"
  },
  "toc": {
   "base_numbering": 1,
   "nav_menu": {},
   "number_sections": true,
   "sideBar": true,
   "skip_h1_title": true,
   "title_cell": "Table of Contents",
   "title_sidebar": "Contents",
   "toc_cell": true,
   "toc_position": {},
   "toc_section_display": true,
   "toc_window_display": false
  }
 },
 "nbformat": 4,
 "nbformat_minor": 2
}
