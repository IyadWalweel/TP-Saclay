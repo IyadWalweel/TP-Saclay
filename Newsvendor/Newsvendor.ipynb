{
 "cells": [
  {
   "cell_type": "markdown",
   "metadata": {
    "toc": true
   },
   "source": [
    "<h1>Table of Contents<span class=\"tocSkip\"></span></h1>\n",
    "<div class=\"toc\"><ul class=\"toc-item\"><li><span><a href=\"#Question-1\" data-toc-modified-id=\"Question-1-1\"><span class=\"toc-item-num\">1&nbsp;&nbsp;</span>Question 1</a></span></li><li><span><a href=\"#Question-2\" data-toc-modified-id=\"Question-2-2\"><span class=\"toc-item-num\">2&nbsp;&nbsp;</span>Question 2</a></span></li><li><span><a href=\"#Question-3\" data-toc-modified-id=\"Question-3-3\"><span class=\"toc-item-num\">3&nbsp;&nbsp;</span>Question 3</a></span></li><li><span><a href=\"#Question-4\" data-toc-modified-id=\"Question-4-4\"><span class=\"toc-item-num\">4&nbsp;&nbsp;</span>Question 4</a></span></li><li><span><a href=\"#Question-5\" data-toc-modified-id=\"Question-5-5\"><span class=\"toc-item-num\">5&nbsp;&nbsp;</span>Question 5</a></span></li><li><span><a href=\"#Question-6\" data-toc-modified-id=\"Question-6-6\"><span class=\"toc-item-num\">6&nbsp;&nbsp;</span>Question 6</a></span></li></ul></div>"
   ]
  },
  {
   "cell_type": "markdown",
   "metadata": {
    "deletable": false,
    "editable": false,
    "nbgrader": {
     "cell_type": "markdown",
     "checksum": "956bef286ff47c482d4cc69222791d82",
     "grade": false,
     "grade_id": "cell-90662a802d9ab97b",
     "locked": true,
     "schema_version": 3,
     "solution": false,
     "task": false
    }
   },
   "source": [
    "# TP Newsvendor problem\n"
   ]
  },
  {
   "cell_type": "markdown",
   "metadata": {
    "deletable": false,
    "editable": false,
    "nbgrader": {
     "cell_type": "markdown",
     "checksum": "87fc25b714aad24108dd139a1b420b76",
     "grade": false,
     "grade_id": "cell-0abc874e0e1560a0",
     "locked": true,
     "schema_version": 3,
     "solution": false,
     "task": false
    }
   },
   "source": [
    "The newsvendor problem consists in buying $u\\geq 0$ newspaper in the morning for a cost $c$, and selling them for a price $p$. You can sell only up to an unknown demand $d$ (and up to what was bought). Hence the problem we want to solve is\n",
    "\n",
    "$$ \\min_{u\\geq 0} \\qquad  \\mathbb{E}[cu - p \\min(u,d)] $$"
   ]
  },
  {
   "cell_type": "code",
   "execution_count": 1,
   "metadata": {},
   "outputs": [],
   "source": [
    "using Statistics "
   ]
  },
  {
   "cell_type": "markdown",
   "metadata": {
    "deletable": false,
    "editable": false,
    "nbgrader": {
     "cell_type": "markdown",
     "checksum": "c7d6f2354166ee67c25c53fdb0a0d152",
     "grade": false,
     "grade_id": "cell-c61937a54ac98257",
     "locked": true,
     "schema_version": 3,
     "solution": false,
     "task": false
    }
   },
   "source": [
    "### Question 1 \n",
    "\n",
    "Find analytically the optimal value and control for the newsvendor problem where $c = 1$, $p = 2$ and a uniform demand over $[5, 15]$."
   ]
  },
  {
   "cell_type": "markdown",
   "metadata": {
    "deletable": false,
    "nbgrader": {
     "cell_type": "markdown",
     "checksum": "f0beaf489184c818c374285a0675229d",
     "grade": true,
     "grade_id": "cell-5124c05e8dc658c0",
     "locked": false,
     "points": 2,
     "schema_version": 3,
     "solution": true,
     "task": false
    },
    "tags": [
     "solution"
    ]
   },
   "source": [
    "YOUR ANSWER HERE"
   ]
  },
  {
   "cell_type": "markdown",
   "metadata": {
    "deletable": false,
    "editable": false,
    "nbgrader": {
     "cell_type": "markdown",
     "checksum": "01b75ee815a5b1a6ae4d0897e96ee9f9",
     "grade": false,
     "grade_id": "cell-24a1b73258f7a485",
     "locked": true,
     "schema_version": 3,
     "solution": false,
     "task": false
    }
   },
   "source": [
    "### Question 2 \n",
    "\n",
    "Write a Julia function `EvalMV(u,Nmc)` evaluating by Monte-Carlo the empirical cost of a given control `u` on `Nmc` realizations. \n",
    "\n",
    "You can use the julia functions `rand` and `mean`."
   ]
  },
  {
   "cell_type": "code",
   "execution_count": null,
   "metadata": {
    "deletable": false,
    "nbgrader": {
     "cell_type": "code",
     "checksum": "d410d592ada42033d1fa112ad893b41f",
     "grade": true,
     "grade_id": "cell-5e22252e269dd719",
     "locked": false,
     "points": 2,
     "schema_version": 3,
     "solution": true,
     "task": false
    },
    "tags": [
     "solution"
    ]
   },
   "outputs": [],
   "source": [
    "# function returning an estimation of the cost control u obtained using Nmc scenario\n",
    "function EvalMC(u,Nmc)\n",
    "    d = 10*rand(Nmc) .+ 5 # generate a vector of demand independent and uniform on [5,15] \n",
    "    \n",
    "    #YOUR CODE HERE\n",
    "    error(\"to be implemented\")\n",
    "end\n"
   ]
  },
  {
   "cell_type": "code",
   "execution_count": null,
   "metadata": {},
   "outputs": [],
   "source": []
  },
  {
   "cell_type": "code",
   "execution_count": null,
   "metadata": {
    "deletable": false,
    "editable": false,
    "nbgrader": {
     "cell_type": "code",
     "checksum": "ff7b40b74fea69cef8156cead14ae458",
     "grade": true,
     "grade_id": "cell-6c684c287c76fc24",
     "locked": true,
     "points": 0,
     "schema_version": 3,
     "solution": false,
     "task": false
    }
   },
   "outputs": [],
   "source": []
  },
  {
   "cell_type": "markdown",
   "metadata": {
    "deletable": false,
    "editable": false,
    "nbgrader": {
     "cell_type": "markdown",
     "checksum": "102769f2d98c79256a17145a09378282",
     "grade": false,
     "grade_id": "cell-a8d2bae3fc2c2f0f",
     "locked": true,
     "schema_version": 3,
     "solution": false,
     "task": false
    }
   },
   "source": [
    "### Question 3 \n",
    "\n",
    "Check by simulation that the optimal control found in Q1 yields the optimal cost +/- 0.1, with precision 95\\%.\n",
    "\n",
    "You can use the julia function `std` to get the standard deviation of a list of values."
   ]
  },
  {
   "cell_type": "code",
   "execution_count": null,
   "metadata": {
    "deletable": false,
    "nbgrader": {
     "cell_type": "code",
     "checksum": "44fe09f45bca23d8e143ea2bd67157f9",
     "grade": true,
     "grade_id": "cell-7ec004d5b42219a6",
     "locked": false,
     "points": 1,
     "schema_version": 3,
     "solution": true,
     "task": false
    },
    "tags": [
     "solution"
    ]
   },
   "outputs": [],
   "source": [
    "#YOUR CODE HERE\n",
    "error(\"to be implemented\")"
   ]
  },
  {
   "cell_type": "markdown",
   "metadata": {},
   "source": [
    "### Question 4 \n",
    "\n",
    "Check that the SAA problem with Nmc scenarios is a Linear Programm, and write a function that solve it using `JuMP` and a linear solver like `GLPK`."
   ]
  },
  {
   "cell_type": "code",
   "execution_count": null,
   "metadata": {},
   "outputs": [],
   "source": [
    "#import Pkg\n",
    "#Pkg.add(\"JuMP\")\n",
    "#Pkg.add(\"GLPK\")"
   ]
  },
  {
   "cell_type": "code",
   "execution_count": null,
   "metadata": {
    "deletable": false,
    "editable": false,
    "nbgrader": {
     "cell_type": "code",
     "checksum": "35b40dcc6dafa0db0abe010cd0f6d1f3",
     "grade": false,
     "grade_id": "cell-65c86b51fd22f08b",
     "locked": true,
     "schema_version": 3,
     "solution": false,
     "task": false
    }
   },
   "outputs": [],
   "source": [
    "using JuMP, GLPK\n",
    "OPTIMIZER = GLPK.Optimizer  "
   ]
  },
  {
   "cell_type": "code",
   "execution_count": null,
   "metadata": {
    "deletable": false,
    "nbgrader": {
     "cell_type": "code",
     "checksum": "7cf94aadacda0748897e57b724b36950",
     "grade": true,
     "grade_id": "cell-afb6bfd4cc4e9469",
     "locked": false,
     "points": 3,
     "schema_version": 3,
     "solution": true,
     "task": false
    },
    "tags": [
     "solution"
    ]
   },
   "outputs": [],
   "source": [
    " \n",
    "\n",
    "function SAAapprox(Nmc)\n",
    "    # solve a SAA problem with Nmc scenarios\n",
    "    # return (v,u) where\n",
    "    # v is the value of the objective\n",
    "    # u is the value of the optimal control\n",
    "    \n",
    "    #YOUR CODE HERE\n",
    "    error(\"to be implemented\")\n",
    "end\n",
    "Random.seed!(1234)            \n",
    "SAAapprox(1000)"
   ]
  },
  {
   "cell_type": "code",
   "execution_count": null,
   "metadata": {
    "deletable": false,
    "editable": false,
    "nbgrader": {
     "cell_type": "code",
     "checksum": "e955e592c304a34651e4b0f6c4e9ea25",
     "grade": true,
     "grade_id": "cell-bcf7c85f0179a1a1",
     "locked": true,
     "points": 0,
     "schema_version": 3,
     "solution": false,
     "task": false
    }
   },
   "outputs": [],
   "source": []
  },
  {
   "cell_type": "markdown",
   "metadata": {
    "deletable": false,
    "editable": false,
    "nbgrader": {
     "cell_type": "markdown",
     "checksum": "682746f2abae13163da7866de17235ef",
     "grade": false,
     "grade_id": "cell-ced71b9d32311723",
     "locked": true,
     "schema_version": 3,
     "solution": false,
     "task": false
    }
   },
   "source": [
    "### Question 5 \n",
    "\n",
    "Show numerically that the SAA value (resp. control) converges almost surely to the optimal value (resp. control)."
   ]
  },
  {
   "cell_type": "code",
   "execution_count": null,
   "metadata": {},
   "outputs": [],
   "source": [
    "# Pkg.add(\"Plots\")\n",
    "using Plots\n",
    "plotly()"
   ]
  },
  {
   "cell_type": "code",
   "execution_count": null,
   "metadata": {
    "deletable": false,
    "nbgrader": {
     "cell_type": "code",
     "checksum": "8531a38ca6d69b55f2483b3c58208167",
     "grade": true,
     "grade_id": "cell-f1b25fe5e20fb875",
     "locked": false,
     "points": 1,
     "schema_version": 3,
     "solution": true,
     "task": false
    },
    "tags": [
     "solution"
    ]
   },
   "outputs": [],
   "source": [
    "controls = []\n",
    "values = []\n",
    "\n",
    "n_points = collect(1:100:5000)\n",
    "\n",
    "for n in 1:50:5000\n",
    "    #YOUR CODE HERE\n",
    "    error(\"to be implemented\")\n",
    "    append!(controls, u)\n",
    "    append!(values, v)\n",
    "end\n",
    "\n",
    "plot(n_points, controls, w=1, title =\"control\")\n",
    "plot(n_points, values, w=1, title =\"values\")"
   ]
  },
  {
   "cell_type": "markdown",
   "metadata": {
    "deletable": false,
    "editable": false,
    "nbgrader": {
     "cell_type": "markdown",
     "checksum": "de0adcf0d5faab465f8dd4b3cb19e60d",
     "grade": false,
     "grade_id": "cell-fbe123b5208f090d",
     "locked": true,
     "schema_version": 3,
     "solution": false,
     "task": false
    }
   },
   "source": [
    "### Question 6 \n",
    "\n",
    "Numerically check that the expectation of SAA value is a negatively biased estimator, with decreasing bias."
   ]
  },
  {
   "cell_type": "code",
   "execution_count": null,
   "metadata": {
    "deletable": false,
    "nbgrader": {
     "cell_type": "code",
     "checksum": "a2a9f175e1a6498e28f32501c65a0904",
     "grade": true,
     "grade_id": "cell-2ae2321267c74c71",
     "locked": false,
     "points": 3,
     "schema_version": 3,
     "solution": true,
     "task": false
    }
   },
   "outputs": [],
   "source": [
    "#YOUR CODE HERE\n",
    "error(\"to be implemented\")"
   ]
  },
  {
   "cell_type": "markdown",
   "metadata": {
    "deletable": false,
    "editable": false,
    "nbgrader": {
     "cell_type": "markdown",
     "checksum": "30438f80497cac4e56061e32315d6b11",
     "grade": false,
     "grade_id": "cell-e1a8427d68d23eb9",
     "locked": true,
     "schema_version": 3,
     "solution": false,
     "task": false
    }
   },
   "source": [
    "Tested with \n",
    "\n",
    "Julia 1.2.0 / JuMP 0.20\n",
    "\n",
    "Julia 1.0.5 / JuMP 0.20"
   ]
  }
 ],
 "metadata": {
  "@webio": {
   "lastCommId": null,
   "lastKernelId": null
  },
  "kernelspec": {
   "display_name": "Julia 1.2.0",
   "language": "julia",
   "name": "julia-1.2"
  },
  "language_info": {
   "file_extension": ".jl",
   "mimetype": "application/julia",
   "name": "julia",
   "version": "1.2.0"
  },
  "toc": {
   "base_numbering": 1,
   "nav_menu": {},
   "number_sections": true,
   "sideBar": true,
   "skip_h1_title": true,
   "title_cell": "Table of Contents",
   "title_sidebar": "Contents",
   "toc_cell": true,
   "toc_position": {},
   "toc_section_display": true,
   "toc_window_display": false
  }
 },
 "nbformat": 4,
 "nbformat_minor": 4
}
